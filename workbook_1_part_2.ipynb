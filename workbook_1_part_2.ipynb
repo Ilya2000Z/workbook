{
 "cells": [
  {
   "cell_type": "code",
   "execution_count": 1,
   "id": "091e3150-e202-4193-a0d4-461cb8411de7",
   "metadata": {},
   "outputs": [],
   "source": [
    "import pandas as pf"
   ]
  },
  {
   "cell_type": "code",
   "execution_count": 3,
   "id": "367d37ff-18c3-4be4-89c6-4bed8245ac64",
   "metadata": {},
   "outputs": [],
   "source": [
    "import numpy as np"
   ]
  },
  {
   "cell_type": "code",
   "execution_count": 4,
   "id": "210651c8-c70d-4f63-bff1-62731b5e93ad",
   "metadata": {},
   "outputs": [],
   "source": [
    "import matplotlib.pyplot as plt"
   ]
  },
  {
   "cell_type": "code",
   "execution_count": 16,
   "id": "15135e8e-41d4-47a3-ba5f-8c55674cf54f",
   "metadata": {},
   "outputs": [],
   "source": [
    "#Задание 1."
   ]
  },
  {
   "cell_type": "code",
   "execution_count": 8,
   "id": "8f5057e8-9944-4178-99b2-c351fe090f2d",
   "metadata": {},
   "outputs": [
    {
     "name": "stdin",
     "output_type": "stream",
     "text": [
      "Введите число:  -9\n"
     ]
    },
    {
     "name": "stdout",
     "output_type": "stream",
     "text": [
      "Число принадлежит первому интервалу\n"
     ]
    }
   ],
   "source": [
    "x = float(input(\"Введите число: \"))\n",
    "if x < -5:\n",
    "    print(\"Число принадлежит первому интервалу\")\n",
    "elif x >= -5 and x <=5:\n",
    "    print(\"Число принадлежит второму интервалу\")\n",
    "elif x > 5:\n",
    "    print(\"Число принадлежит третьему интервалу\")"
   ]
  },
  {
   "cell_type": "code",
   "execution_count": 9,
   "id": "4d641a14-f6b1-4c14-b44d-baea7774cd65",
   "metadata": {},
   "outputs": [],
   "source": [
    "#Задание 2."
   ]
  },
  {
   "cell_type": "code",
   "execution_count": 13,
   "id": "5c8f27ba-98d8-4d44-a252-7c19b9b14e8e",
   "metadata": {},
   "outputs": [
    {
     "name": "stdin",
     "output_type": "stream",
     "text": [
      "Ведите год:  1700\n"
     ]
    },
    {
     "name": "stdout",
     "output_type": "stream",
     "text": [
      "год високосный\n"
     ]
    }
   ],
   "source": [
    "x = float(input(\"Ведите год: \"))\n",
    "if x%4 == 0:\n",
    "    print(\"год високосный\")\n",
    "elif x%100 == 0 and x%400 == 0:\n",
    "    print(\"год високосный\")\n",
    "else:\n",
    "    print(\"год не високосный\")"
   ]
  },
  {
   "cell_type": "code",
   "execution_count": null,
   "id": "17569c50-2862-4607-9926-90b7d31abba9",
   "metadata": {},
   "outputs": [],
   "source": [
    "#Задание 3."
   ]
  },
  {
   "cell_type": "code",
   "execution_count": 36,
   "id": "23901747-64d9-4c12-9663-cf66a7da0cfc",
   "metadata": {},
   "outputs": [
    {
     "name": "stdout",
     "output_type": "stream",
     "text": [
      "No set:  [5, 5, 'test', 'test', None, None, list[5, 5, 'test', 'test'], list[5, 5, 'test', 'test'], {1, 2, 3, 4}, {1, 2, 3, 4}, True, True]\n"
     ]
    }
   ],
   "source": [
    "x = [5,5,\"test\",\"test\",None,None,list[5,5,\"test\",\"test\"],list[5,5,\"test\",\"test\"],{4, 4, 3, 3, 2, 2, 1, 1},{4, 4, 3, 3, 2, 2, 1, 1},bool(1),bool(1)]\n",
    "print(\"No set: \", x)\n",
    "# Элементы set выводятся по возрастанию, так как быстрого поиска элемента, нужно их хранить в памяти в упорядоченном виде."
   ]
  },
  {
   "cell_type": "code",
   "execution_count": null,
   "id": "3170c8ad-51fb-4d43-afe3-1034c0638bd6",
   "metadata": {},
   "outputs": [],
   "source": [
    "#Задача 4."
   ]
  },
  {
   "cell_type": "code",
   "execution_count": 38,
   "id": "b6a3b291-08b4-4fd5-899f-be9ff8dfe85f",
   "metadata": {},
   "outputs": [
    {
     "name": "stdout",
     "output_type": "stream",
     "text": [
      "element:  [2, 'a', [4, 'stroka', 6.56], True]\n"
     ]
    }
   ],
   "source": [
    "c_3 = [2, 'a', [4, 'stroka', 6.56], {5, 2, 3, 3, 4}]\n",
    "c_3.pop()\n",
    "c_3.append(bool(1))\n",
    "print(\"element: \", c_3)"
   ]
  },
  {
   "cell_type": "code",
   "execution_count": null,
   "id": "8720645a-ccf3-4b53-8046-b4599fba7905",
   "metadata": {},
   "outputs": [],
   "source": [
    "#Задача 5."
   ]
  },
  {
   "cell_type": "code",
   "execution_count": 39,
   "id": "bb4c113d-a29c-4650-9daa-fa09f1044e6b",
   "metadata": {},
   "outputs": [
    {
     "name": "stdout",
     "output_type": "stream",
     "text": [
      "Element 2 r\n",
      "Element 0 3\n",
      "Last Element {3, 5, 6}\n",
      "index b 1\n",
      "Check Element True\n",
      "Check Element False\n",
      "element 'r' in c\n",
      "Befor change:  [3, 'b', 'r', ['test', 4, True], {3, 5, 6}]\n",
      "After change:  [3, 'test', 'r', ['test', 4, True], {3, 5, 6}]\n",
      "size list 5\n"
     ]
    }
   ],
   "source": [
    "c = [3,\"b\",\"r\",[\"test\",4,bool(1)],{3,5,6,5,3}]\n",
    "print(\"Element 2\", c[2])\n",
    "print(\"Element 0\", c[0])\n",
    "print(\"Last Element\", c[-1])\n",
    "print(\"index b\", c.index('b'))\n",
    "print(\"Check Element\", \"r\" in c)\n",
    "print(\"Check Element\", 9 in c)\n",
    "if \"r\" in c:\n",
    "    print(\"element 'r' in c\")\n",
    "print(\"Befor change: \", c)\n",
    "c[1] = \"test\"\n",
    "print(\"After change: \", c)\n",
    "print(\"size list\", len(c))"
   ]
  },
  {
   "cell_type": "code",
   "execution_count": null,
   "id": "3286c926-9d2c-4616-b940-8f76f54c513c",
   "metadata": {},
   "outputs": [],
   "source": [
    "#Задача 6."
   ]
  },
  {
   "cell_type": "code",
   "execution_count": 58,
   "id": "9a80739f-2910-4f59-93db-1e520a2b065b",
   "metadata": {},
   "outputs": [
    {
     "name": "stdout",
     "output_type": "stream",
     "text": [
      "Element 1-4 [1, 2, 3, 4]\n",
      "list element k=3, i=1, j=8 [1, 4, 7]\n",
      "Back list [11, 10, 9, 8, 7, 6, 5, 4, 3, 2, 1, 0]\n",
      "d:  [2, 4, 6, 8]\n",
      "back d:  [8, 6, 4, 2]\n",
      "[8, 1, 6, 3, 4, 5, 2, 7, 0, 9]\n"
     ]
    }
   ],
   "source": [
    "c = [0,1,2,3,4,5,6,7,8,9,10,11]\n",
    "print(\"Element 1-4\", c[1:5])\n",
    "print(\"list element k=3, i=1, j=8\", c[1:8:3])\n",
    "print(\"Back list\", c[::-1])\n",
    "d=c[2:9:2]\n",
    "print(\"d: \",d)\n",
    "print(\"back d: \", d[::-1])\n",
    "\n",
    "# Task\n",
    "\n",
    "x = [0, 1, 2, 3, 4, 5, 6, 7, 8, 9]\n",
    "odd = x[0:9:2][::-1]\n",
    "for i in odd:\n",
    "    x[odd.index(i)*2] = odd[odd.index(i)]\n",
    "print(x)\n",
    "\n"
   ]
  },
  {
   "cell_type": "code",
   "execution_count": null,
   "id": "aca9bc05-76a4-48cc-9d29-648da5906512",
   "metadata": {},
   "outputs": [],
   "source": [
    "#Задание 7."
   ]
  },
  {
   "cell_type": "code",
   "execution_count": 4,
   "id": "56c78c79-528a-4a34-8f46-39733ba09955",
   "metadata": {},
   "outputs": [
    {
     "name": "stdout",
     "output_type": "stream",
     "text": [
      "10\n",
      "7\n",
      "4\n",
      "1\n"
     ]
    }
   ],
   "source": [
    "x = 10\n",
    "while x >= 1:\n",
    "    print(x)\n",
    "    x -=3"
   ]
  },
  {
   "cell_type": "code",
   "execution_count": null,
   "id": "0e28905c-10c1-48ec-a7dd-0a5795c40950",
   "metadata": {},
   "outputs": [],
   "source": [
    "#Задание 8."
   ]
  },
  {
   "cell_type": "code",
   "execution_count": 6,
   "id": "db4d9575-9ce3-4b7f-8a22-12d8abdf8bbd",
   "metadata": {},
   "outputs": [
    {
     "name": "stdout",
     "output_type": "stream",
     "text": [
      "вес\n",
      "рост\n",
      "возраст\n",
      "пол\n"
     ]
    }
   ],
   "source": [
    "signs = [\"вес\", \"рост\", \"возраст\", \"пол\"]\n",
    "for sign in signs:\n",
    "    print(sign)"
   ]
  },
  {
   "cell_type": "code",
   "execution_count": null,
   "id": "8ba0443a-f684-4110-929f-4059ca653357",
   "metadata": {},
   "outputs": [],
   "source": [
    "#Задание 9."
   ]
  },
  {
   "cell_type": "code",
   "execution_count": 8,
   "id": "4eb2e87d-a945-4ef4-bb02-a3e120a19041",
   "metadata": {},
   "outputs": [
    {
     "name": "stdout",
     "output_type": "stream",
     "text": [
      "[2, 3, 4, 5, 6, 7, 8, 9, 10, 11, 12, 13, 14, 15]\n"
     ]
    }
   ],
   "source": [
    "list_item = range(2,16,1)\n",
    "print(list(list_item))"
   ]
  },
  {
   "cell_type": "code",
   "execution_count": null,
   "id": "9942aa3b-9d28-4c8b-8db1-ee1d76b65940",
   "metadata": {},
   "outputs": [],
   "source": [
    "#Задание 10."
   ]
  },
  {
   "cell_type": "code",
   "execution_count": 15,
   "id": "8ff1abb3-78da-446c-b386-a568c20ab98d",
   "metadata": {},
   "outputs": [
    {
     "name": "stdout",
     "output_type": "stream",
     "text": [
      "105\n",
      "80\n",
      "55\n",
      "30\n",
      "5\n"
     ]
    }
   ],
   "source": [
    "for i in range(105,4, -25):\n",
    "    print(i)"
   ]
  }
 ],
 "metadata": {
  "kernelspec": {
   "display_name": "Python 3 (ipykernel)",
   "language": "python",
   "name": "python3"
  },
  "language_info": {
   "codemirror_mode": {
    "name": "ipython",
    "version": 3
   },
   "file_extension": ".py",
   "mimetype": "text/x-python",
   "name": "python",
   "nbconvert_exporter": "python",
   "pygments_lexer": "ipython3",
   "version": "3.9.13"
  }
 },
 "nbformat": 4,
 "nbformat_minor": 5
}
